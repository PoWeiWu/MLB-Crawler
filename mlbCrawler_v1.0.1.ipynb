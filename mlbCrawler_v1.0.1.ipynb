{
 "cells": [
  {
   "cell_type": "markdown",
   "metadata": {},
   "source": [
    "\n",
    "# First - get player_id       \n",
    "\n",
    "# url = http://mlb.mlb.com/pubajax/wf/flow/stats.splayer?season=2016&sort_order=%27desc%27&sort_column=%27avg%27&stat_type=hitting&page_type=SortablePlayer&team_id=112&game_type=%27R%27&player_pool=ALL&season_type=ANY&league_code=%27NL%27&sport_code=%27mlb%27&results=1000&recSP=1&recPP=50\n",
    "\n",
    "\n",
    "\n",
    "# Second - use player_id to get gamelog\n",
    "\n",
    "# url = http://m.cubs.mlb.com/lookup/json/named.sport_hitting_game_log_composed.bam?game_type=%27R%27&league_list_id=%27mlb%27&player_id=592178&season=2016&sit_code=%271%27&sit_code=%272%27&sit_code=%273%27&sit_code=%274%27&sit_code=%275%27&sit_code=%276%27&sit_code=%277%27&sit_code=%278%27&sit_code=%279%27&sit_code=%2710%27&sit_code=%2711%27&sit_code=%2712%27\n",
    "\n",
    "http://m.mlb.com/lookup/json/named.sport_hitting_game_log_composed.bam?game_type=%27R%27&league_list_id=%27mlb%27&player_id=493128&season=2016&sit_code=%271%27&sit_code=%272%27&sit_code=%273%27&sit_code=%274%27&sit_code=%275%27&sit_code=%276%27&sit_code=%277%27&sit_code=%278%27&sit_code=%279%27&sit_code=%2710%27&sit_code=%2711%27&sit_code=%2712%27\n",
    "\n",
    "\n",
    "# need http://m.[team_name].mlb.com......  player_id=[player_id],season=[year],\n"
   ]
  },
  {
   "cell_type": "code",
   "execution_count": null,
   "metadata": {
    "collapsed": true
   },
   "outputs": [],
   "source": [
    "import os\n",
    "import csv\n",
    "import requests as r\n",
    "import json\n",
    "\n",
    "#NLCentral = ['112','138','134','158','113']  #Chicago Cubs,St. Louis Cardinals,Pittsburgh Pirates,Milwaukee Brewers,Cincinnati Reds\n",
    "NLCentral = {'112':'Chicago Cubs',\n",
    "             '138':'St. Louis Cardinals',\n",
    "             '134':'Pittsburgh Pirates',\n",
    "             '158':'Milwaukee Brewers',\n",
    "             '113':'Cincinnati Reds'\n",
    "            }\n",
    "\n",
    "for team_id in NLCentral:\n",
    "    \n",
    "    team_path = 'E:/BigData/python/mlbCrawler/{}'.format(NLCentral[team_id])\n",
    "    if not os.path.exists(team_path):\n",
    "        os.makedirs(team_path)\n",
    "    \n",
    "    for season in range(2016,1999,-1):\n",
    "        resToGetPlayerID = r.get('http://mlb.mlb.com/pubajax/wf/flow/stats.splayer?season={}&sort_order=%27desc%27&sort_column=%27avg%27&stat_type=hitting&page_type=SortablePlayer&team_id={}&game_type=%27R%27&player_pool=ALL&season_type=ANY&league_code=%27NL%27&sport_code=%27mlb%27&results=1000&recSP=1&recPP=50'.format(season,team_id))\n",
    "\n",
    "        playerStats = json.loads(resToGetPlayerID.text)['stats_sortable_player']['queryResults']['row']\n",
    "\n",
    "        # for playerNameID in playerStat:\n",
    "        #         print(playerNameID['name_display_first_last'])\n",
    "\n",
    "        player_ids=[]\n",
    "        palyerIdName={}\n",
    "        for playerID in playerStats:\n",
    "                player_id = playerID['player_id']\n",
    "                palyerIdName[playerID['player_id']] = playerID['name_display_first_last']\n",
    "                #print(player_ids)\n",
    "                player_ids.append(player_id)\n",
    "\n",
    "        for id in player_ids:\n",
    "            resToGetGameLog = r.get('http://m.mlb.com/lookup/json/named.sport_hitting_game_log_composed.bam?game_type=%27R%27&league_list_id=%27mlb%27&player_id={}&season={}&sit_code=%271%27&sit_code=%272%27&sit_code=%273%27&sit_code=%274%27&sit_code=%275%27&sit_code=%276%27&sit_code=%277%27&sit_code=%278%27&sit_code=%279%27&sit_code=%2710%27&sit_code=%2711%27&sit_code=%2712%27'.format(id,season))\n",
    "            gameLog = json.loads(resToGetGameLog.text)['sport_hitting_game_log_composed']['sport_hitting_game_log']['queryResults']['row']\n",
    "            #gameSize = json.loads(resToGetGameLog.text)['sport_hitting_game_log_composed']['sport_hitting_game_log']['queryResults']['totalSize']\n",
    "\n",
    "            season_path = team_path + '/{}'.format(season)\n",
    "            if not os.path.exists(season_path):\n",
    "                os.makedirs(season_path)\n",
    "            try:\n",
    "                fieldnames = list((gameLog[0]).keys())\n",
    "                with open(season_path + '/{}.csv'.format(palyerIdName[id]),'w') as csvfile:\n",
    "\n",
    "                    writer = csv.DictWriter(csvfile, fieldnames=fieldnames)\n",
    "                    writer.writeheader()\n",
    "\n",
    "                    for row in gameLog:\n",
    "                        writer.writerow(row)\n",
    "            except KeyError:\n",
    "                with open(team_path + '/except_player.txt','w') as text_file:\n",
    "                    print(str(season) + ':' + id + ' : ' + palyerIdName[id])\n",
    "                    text_file.write(str(season) + ':' + id + ':' + palyerIdName[id]) "
   ]
  }
 ],
 "metadata": {
  "kernelspec": {
   "display_name": "Python [default]",
   "language": "python",
   "name": "python3"
  },
  "language_info": {
   "codemirror_mode": {
    "name": "ipython",
    "version": 3
   },
   "file_extension": ".py",
   "mimetype": "text/x-python",
   "name": "python",
   "nbconvert_exporter": "python",
   "pygments_lexer": "ipython3",
   "version": "3.5.2"
  }
 },
 "nbformat": 4,
 "nbformat_minor": 1
}
